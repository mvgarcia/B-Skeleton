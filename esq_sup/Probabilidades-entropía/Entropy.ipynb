{
 "cells": [
  {
   "cell_type": "code",
   "execution_count": 2,
   "metadata": {},
   "outputs": [],
   "source": [
    "import matplotlib.pyplot as plt\n",
    "import numpy as np\n",
    "%matplotlib inline"
   ]
  },
  {
   "cell_type": "code",
   "execution_count": 3,
   "metadata": {},
   "outputs": [],
   "source": [
    "files = ['beta1_p_n.txt','beta1_1_p_n.txt','beta1_2_p_n.txt','beta1_5_p_n.txt', 'beta2_p_n.txt','beta2_5_p_n.txt','beta3_p_n.txt', 'beta4_p_n.txt','beta6_p_n.txt','beta7_p_n.txt','beta8_p_n.txt','beta10_p_n.txt']\n",
    "beta = [1,1.1,1.2,1.5,2,2.5,3,4,6,7,8,10]"
   ]
  },
  {
   "cell_type": "code",
   "execution_count": 12,
   "metadata": {},
   "outputs": [],
   "source": [
    "data = {}\n",
    "for i in range(len(beta)):\n",
    "    data[beta[i]] = np.loadtxt(files[i])"
   ]
  },
  {
   "cell_type": "code",
   "execution_count": 5,
   "metadata": {},
   "outputs": [],
   "source": [
    "def entropy(p):\n",
    "    p = p[p>0]\n",
    "    return -np.sum(p*np.log(p))"
   ]
  },
  {
   "cell_type": "code",
   "execution_count": 20,
   "metadata": {},
   "outputs": [
    {
     "data": {
      "image/png": "[encoded data removed]",
      "text/plain": [
       "<Figure size 432x288 with 1 Axes>"
      ]
     },
     "metadata": {
      "needs_background": "light"
     },
     "output_type": "display_data"
    }
   ],
   "source": [
    "for i in range(len(beta)):\n",
    "    plt.scatter(beta[i], entropy(data[beta[i]][:,1]), c=0)\n",
    "plt.xlabel(\"$\\\\beta$\")\n",
    "plt.ylabel(\"$Entropy$\")\n",
    "plt.savefig(\"entropy\")"
   ]
  }
 ],
 "metadata": {
  "kernelspec": {
   "display_name": "Python 3",
   "language": "python",
   "name": "python3"
  },
  "language_info": {
   "codemirror_mode": {
    "name": "ipython",
    "version": 3
   },
   "file_extension": ".py",
   "mimetype": "text/x-python",
   "name": "python",
   "nbconvert_exporter": "python",
   "pygments_lexer": "ipython3",
   "version": "3.6.4"
  }
 },
 "nbformat": 4,
 "nbformat_minor": 2
}
