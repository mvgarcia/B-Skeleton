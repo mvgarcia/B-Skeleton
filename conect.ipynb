{
 "cells": [
  {
   "cell_type": "code",
   "execution_count": 6,
   "metadata": {},
   "outputs": [],
   "source": [
    "import numpy as np\n",
    "beta1_salida_esq=np.loadtxt(\"b1_esq_sup_d3.dat\")\n",
    "esq_sup=np.loadtxt(\"esq_sup.dat\")\n",
    "beta1=beta1_salida_esq\n",
    "conexiones=[]\n",
    "beta2=np.loadtxt(\"b10_esq_sup_d3.dat\")"
   ]
  },
  {
   "cell_type": "code",
   "execution_count": 7,
   "metadata": {},
   "outputs": [],
   "source": [
    "for i in range(0,6054):\n",
    "        cont=0\n",
    "        keep=True\n",
    "        while(keep):\n",
    "            for j in range(len(beta1)):\n",
    "                if(i==beta1[j][0]):\n",
    "                    cont=cont+1\n",
    "                else:\n",
    "                    keep=False\n",
    "            conexiones.append(cont)"
   ]
  },
  {
   "cell_type": "code",
   "execution_count": 23,
   "metadata": {},
   "outputs": [
    {
     "data": {
      "text/plain": [
       "(1, 72)"
      ]
     },
     "execution_count": 23,
     "metadata": {},
     "output_type": "execute_result"
    }
   ],
   "source": [
    "max_min(probability(conexiones))"
   ]
  },
  {
   "cell_type": "code",
   "execution_count": 22,
   "metadata": {},
   "outputs": [],
   "source": [
    "#Establece una lista con la cantidad de conexiones de cada nodo\n",
    "def edges(start,stop,out_beta):\n",
    "    conexion=[]\n",
    "    for i in range(start,stop):\n",
    "        cont=0\n",
    "        for j in range(len(out_beta)):\n",
    "            if(i==out_beta[j][0]):\n",
    "                cont=cont+1\n",
    "        conexion.append(cont)\n",
    "    return conexion\n",
    "#retorna la probablidad de conexiones de cada nodo según el número máximo de conecciones \n",
    "def probability(edge):\n",
    "    maximo=np.max(edge)\n",
    "    ind_prob=[x/maximo for x in edge]\n",
    "    return ind_prob\n",
    "#Retorna la cantidad de nodos con número máximo y mínimo de conexiones\n",
    "def max_min(proba):\n",
    "    maximum=np.where(proba==np.max(proba))\n",
    "    l_maximum=len(maximum[0])\n",
    "    minimum=np.where(proba==np.min(proba))\n",
    "    l_minimum=len(minimum[0])\n",
    "    return(l_maximum,l_minimum)"
   ]
  },
  {
   "cell_type": "code",
   "execution_count": 65,
   "metadata": {},
   "outputs": [],
   "source": [
    "#veces=list(range(len(esq_sup)))\n",
    "\n",
    "for i in range(6000,6054):\n",
    "    cont=0\n",
    "    for j in range(len(beta)):\n",
    "        if(i==beta[j][0]):\n",
    "            cont=cont+1\n",
    "    veces.append(cont)\n",
    "    #veces[i]=\n",
    " "
   ]
  },
  {
   "cell_type": "code",
   "execution_count": 4,
   "metadata": {},
   "outputs": [
    {
     "ename": "NameError",
     "evalue": "name 'veces' is not defined",
     "output_type": "error",
     "traceback": [
      "\u001b[0;31m---------------------------------------------------------------------------\u001b[0m",
      "\u001b[0;31mNameError\u001b[0m                                 Traceback (most recent call last)",
      "\u001b[0;32m<ipython-input-4-7e39d070ac1c>\u001b[0m in \u001b[0;36m<module>\u001b[0;34m()\u001b[0m\n\u001b[0;32m----> 1\u001b[0;31m \u001b[0mprobability\u001b[0m\u001b[0;34m(\u001b[0m\u001b[0mveces\u001b[0m\u001b[0;34m)\u001b[0m\u001b[0;34m\u001b[0m\u001b[0m\n\u001b[0m",
      "\u001b[0;31mNameError\u001b[0m: name 'veces' is not defined"
     ]
    }
   ],
   "source": []
  },
  {
   "cell_type": "code",
   "execution_count": null,
   "metadata": {},
   "outputs": [],
   "source": []
  }
 ],
 "metadata": {
  "kernelspec": {
   "display_name": "Python 3",
   "language": "python",
   "name": "python3"
  },
  "language_info": {
   "codemirror_mode": {
    "name": "ipython",
    "version": 3
   },
   "file_extension": ".py",
   "mimetype": "text/x-python",
   "name": "python",
   "nbconvert_exporter": "python",
   "pygments_lexer": "ipython3",
   "version": "3.7.0"
  }
 },
 "nbformat": 4,
 "nbformat_minor": 2
}
